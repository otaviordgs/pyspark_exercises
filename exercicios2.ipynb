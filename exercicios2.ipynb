{
 "cells": [
  {
   "cell_type": "code",
   "execution_count": 1,
   "metadata": {},
   "outputs": [
    {
     "name": "stderr",
     "output_type": "stream",
     "text": [
      "your 131072x1 screen size is bogus. expect trouble\n",
      "25/02/05 16:23:48 WARN Utils: Your hostname, otaviordgs resolves to a loopback address: 127.0.1.1; using 172.24.57.217 instead (on interface eth0)\n",
      "25/02/05 16:23:48 WARN Utils: Set SPARK_LOCAL_IP if you need to bind to another address\n",
      "Setting default log level to \"WARN\".\n",
      "To adjust logging level use sc.setLogLevel(newLevel). For SparkR, use setLogLevel(newLevel).\n",
      "25/02/05 16:23:49 WARN NativeCodeLoader: Unable to load native-hadoop library for your platform... using builtin-java classes where applicable\n"
     ]
    }
   ],
   "source": [
    "from pyspark.sql import SparkSession\n",
    "\n",
    "spark = SparkSession.builder \\\n",
    "        .appName(\"Hello Spark\") \\\n",
    "        .master(\"local[3]\") \\\n",
    "        .getOrCreate()"
   ]
  },
  {
   "cell_type": "code",
   "execution_count": 2,
   "metadata": {},
   "outputs": [
    {
     "name": "stderr",
     "output_type": "stream",
     "text": [
      "                                                                                \r"
     ]
    }
   ],
   "source": [
    "path = \"data/online_retail.csv\"\n",
    "df = spark.read.csv(path, inferSchema=True, header=True, mode=\"FAILFAST\")"
   ]
  },
  {
   "cell_type": "code",
   "execution_count": 3,
   "metadata": {},
   "outputs": [
    {
     "name": "stdout",
     "output_type": "stream",
     "text": [
      "+---------+---------+--------------------+--------+--------------+---------+----------+--------------+\n",
      "|InvoiceNo|StockCode|         Description|Quantity|   InvoiceDate|UnitPrice|CustomerID|       Country|\n",
      "+---------+---------+--------------------+--------+--------------+---------+----------+--------------+\n",
      "|   536365|   85123A|WHITE HANGING HEA...|       6|12/1/2010 8:26|     2.55|     17850|United Kingdom|\n",
      "|   536365|    71053| WHITE METAL LANTERN|       6|12/1/2010 8:26|     3.39|     17850|United Kingdom|\n",
      "|   536365|   84406B|CREAM CUPID HEART...|       8|12/1/2010 8:26|     2.75|     17850|United Kingdom|\n",
      "|   536365|   84029G|KNITTED UNION FLA...|       6|12/1/2010 8:26|     3.39|     17850|United Kingdom|\n",
      "|   536365|   84029E|RED WOOLLY HOTTIE...|       6|12/1/2010 8:26|     3.39|     17850|United Kingdom|\n",
      "|   536365|    22752|SET 7 BABUSHKA NE...|       2|12/1/2010 8:26|     7.65|     17850|United Kingdom|\n",
      "|   536365|    21730|GLASS STAR FROSTE...|       6|12/1/2010 8:26|     4.25|     17850|United Kingdom|\n",
      "|   536366|    22633|HAND WARMER UNION...|       6|12/1/2010 8:28|     1.85|     17850|United Kingdom|\n",
      "|   536366|    22632|HAND WARMER RED P...|       6|12/1/2010 8:28|     1.85|     17850|United Kingdom|\n",
      "|   536367|    84879|ASSORTED COLOUR B...|      32|12/1/2010 8:34|     1.69|     13047|United Kingdom|\n",
      "+---------+---------+--------------------+--------+--------------+---------+----------+--------------+\n",
      "only showing top 10 rows\n",
      "\n"
     ]
    }
   ],
   "source": [
    "df.show(10)"
   ]
  },
  {
   "cell_type": "code",
   "execution_count": 4,
   "metadata": {},
   "outputs": [
    {
     "data": {
      "text/plain": [
       "541909"
      ]
     },
     "execution_count": 4,
     "metadata": {},
     "output_type": "execute_result"
    }
   ],
   "source": [
    "# 1. Quantos registros existem no dataset?\n",
    "df.count()"
   ]
  },
  {
   "cell_type": "code",
   "execution_count": 6,
   "metadata": {},
   "outputs": [
    {
     "name": "stdout",
     "output_type": "stream",
     "text": [
      "+--------+\n",
      "|count(1)|\n",
      "+--------+\n",
      "|  541909|\n",
      "+--------+\n",
      "\n"
     ]
    }
   ],
   "source": [
    "view = df.createOrReplaceTempView(\"online_retail\")\n",
    "sql_1 = \"SELECT COUNT(*) FROM online_retail\"\n",
    "spark.sql(sql_1).show()"
   ]
  },
  {
   "cell_type": "code",
   "execution_count": 5,
   "metadata": {},
   "outputs": [
    {
     "name": "stdout",
     "output_type": "stream",
     "text": [
      "root\n",
      " |-- InvoiceNo: string (nullable = true)\n",
      " |-- StockCode: string (nullable = true)\n",
      " |-- Description: string (nullable = true)\n",
      " |-- Quantity: integer (nullable = true)\n",
      " |-- InvoiceDate: string (nullable = true)\n",
      " |-- UnitPrice: double (nullable = true)\n",
      " |-- CustomerID: integer (nullable = true)\n",
      " |-- Country: string (nullable = true)\n",
      "\n"
     ]
    }
   ],
   "source": [
    "# 2. Quais são as colunas disponíveis no dataset e seus tipos de dados?\n",
    "df.printSchema()"
   ]
  },
  {
   "cell_type": "code",
   "execution_count": 8,
   "metadata": {},
   "outputs": [
    {
     "name": "stderr",
     "output_type": "stream",
     "text": [
      "                                                                                \r"
     ]
    },
    {
     "data": {
      "text/plain": [
       "4224"
      ]
     },
     "execution_count": 8,
     "metadata": {},
     "output_type": "execute_result"
    }
   ],
   "source": [
    "# 3. Quantos produtos únicos existem no dataset?\n",
    "df.select(\"Description\") \\\n",
    "    .distinct() \\\n",
    "    .count()"
   ]
  },
  {
   "cell_type": "code",
   "execution_count": 7,
   "metadata": {},
   "outputs": [
    {
     "name": "stderr",
     "output_type": "stream",
     "text": [
      "[Stage 6:===================>                                       (1 + 2) / 3]\r"
     ]
    },
    {
     "name": "stdout",
     "output_type": "stream",
     "text": [
      "+---------------------------+\n",
      "|count(DISTINCT Description)|\n",
      "+---------------------------+\n",
      "|                       4223|\n",
      "+---------------------------+\n",
      "\n"
     ]
    },
    {
     "name": "stderr",
     "output_type": "stream",
     "text": [
      "                                                                                \r"
     ]
    }
   ],
   "source": [
    "sql_3 = \"SELECT COUNT(DISTINCT Description) FROM online_retail\"\n",
    "spark.sql(sql_3).show()"
   ]
  },
  {
   "cell_type": "code",
   "execution_count": 22,
   "metadata": {},
   "outputs": [
    {
     "name": "stdout",
     "output_type": "stream",
     "text": [
      "+--------------------+-----+\n",
      "|         Description|count|\n",
      "+--------------------+-----+\n",
      "|WHITE HANGING HEA...| 2369|\n",
      "+--------------------+-----+\n",
      "only showing top 1 row\n",
      "\n"
     ]
    }
   ],
   "source": [
    "# 4. Qual é o produto mais vendido (em quantidade)?\n",
    "from pyspark.sql.functions import *\n",
    "df.groupBy(\"Description\")\\\n",
    "    .count() \\\n",
    "    .orderBy(desc(\"count\")) \\\n",
    "    .show(1)"
   ]
  },
  {
   "cell_type": "code",
   "execution_count": 11,
   "metadata": {},
   "outputs": [
    {
     "name": "stdout",
     "output_type": "stream",
     "text": [
      "+----------------------------------+----+\n",
      "|Description                       |qtd |\n",
      "+----------------------------------+----+\n",
      "|WHITE HANGING HEART T-LIGHT HOLDER|2369|\n",
      "|REGENCY CAKESTAND 3 TIER          |2200|\n",
      "|JUMBO BAG RED RETROSPOT           |2159|\n",
      "+----------------------------------+----+\n",
      "\n"
     ]
    }
   ],
   "source": [
    "sql_4 = \"\"\"\n",
    "    SELECT Description, COUNT(*) AS qtd\n",
    "    FROM online_retail\n",
    "    GROUP BY 1\n",
    "    ORDER BY 2 DESC\n",
    "    LIMIT 3\n",
    "\"\"\"\n",
    "spark.sql(sql_4).show(truncate=False)"
   ]
  },
  {
   "cell_type": "code",
   "execution_count": 8,
   "metadata": {},
   "outputs": [
    {
     "name": "stderr",
     "output_type": "stream",
     "text": [
      "[Stage 15:>                                                         (0 + 3) / 3]\r"
     ]
    },
    {
     "name": "stdout",
     "output_type": "stream",
     "text": [
      "+---------------------------+\n",
      "|sum((UnitPrice * Quantity))|\n",
      "+---------------------------+\n",
      "|          9747747.933998296|\n",
      "+---------------------------+\n",
      "\n"
     ]
    },
    {
     "name": "stderr",
     "output_type": "stream",
     "text": [
      "                                                                                \r"
     ]
    }
   ],
   "source": [
    "# 5. Qual é o faturamento total da loja?\n",
    "df.select(sum(expr(\"UnitPrice * Quantity\"))) \\\n",
    "    .show()"
   ]
  },
  {
   "cell_type": "code",
   "execution_count": 12,
   "metadata": {},
   "outputs": [
    {
     "name": "stdout",
     "output_type": "stream",
     "text": [
      "+---------------------------+\n",
      "|sum((UnitPrice * Quantity))|\n",
      "+---------------------------+\n",
      "|          9747747.933998296|\n",
      "+---------------------------+\n",
      "\n"
     ]
    }
   ],
   "source": [
    "sql_5 = \"SELECT SUM(UnitPrice * Quantity) FROM online_retail\"\n",
    "spark.sql(sql_5).show()"
   ]
  },
  {
   "cell_type": "code",
   "execution_count": 9,
   "metadata": {},
   "outputs": [
    {
     "name": "stdout",
     "output_type": "stream",
     "text": [
      "+--------------+------+\n",
      "|       Country| count|\n",
      "+--------------+------+\n",
      "|United Kingdom|495478|\n",
      "|       Germany|  9495|\n",
      "|        France|  8557|\n",
      "|          EIRE|  8196|\n",
      "|         Spain|  2533|\n",
      "+--------------+------+\n",
      "only showing top 5 rows\n",
      "\n"
     ]
    }
   ],
   "source": [
    "# 6. Quais são os cinco países com mais transações\n",
    "df.groupBy(\"Country\")\\\n",
    "    .count() \\\n",
    "    .orderBy(desc(\"count\")) \\\n",
    "    .show(5)"
   ]
  },
  {
   "cell_type": "code",
   "execution_count": 13,
   "metadata": {},
   "outputs": [
    {
     "name": "stdout",
     "output_type": "stream",
     "text": [
      "+--------------+------+\n",
      "|       Country|   qtd|\n",
      "+--------------+------+\n",
      "|United Kingdom|495478|\n",
      "|       Germany|  9495|\n",
      "|        France|  8557|\n",
      "|          EIRE|  8196|\n",
      "|         Spain|  2533|\n",
      "+--------------+------+\n",
      "only showing top 5 rows\n",
      "\n"
     ]
    }
   ],
   "source": [
    "sql_6 = \"\"\"\n",
    "    SELECT Country, COUNT(*) AS qtd\n",
    "    FROM online_retail\n",
    "    GROUP BY 1\n",
    "    ORDER BY 2 DESC\n",
    "\"\"\"\n",
    "spark.sql(sql_6).show(5)"
   ]
  },
  {
   "cell_type": "code",
   "execution_count": 10,
   "metadata": {},
   "outputs": [
    {
     "name": "stdout",
     "output_type": "stream",
     "text": [
      "+-----------------+\n",
      "|    average_price|\n",
      "+-----------------+\n",
      "|4.611113626086822|\n",
      "+-----------------+\n",
      "\n"
     ]
    }
   ],
   "source": [
    "# 7. Qual é a média de preço dos produtos vendidos?\n",
    "df.select(avg(\"UnitPrice\").alias(\"average_price\")) \\\n",
    "    .show()"
   ]
  },
  {
   "cell_type": "code",
   "execution_count": 14,
   "metadata": {},
   "outputs": [
    {
     "name": "stdout",
     "output_type": "stream",
     "text": [
      "+-----------------+\n",
      "|   avg(UnitPrice)|\n",
      "+-----------------+\n",
      "|4.611113626086822|\n",
      "+-----------------+\n",
      "\n"
     ]
    }
   ],
   "source": [
    "sql_7 = \"SELECT AVG(UnitPrice) FROM online_retail\"\n",
    "spark.sql(sql_7).show()"
   ]
  },
  {
   "cell_type": "code",
   "execution_count": 11,
   "metadata": {},
   "outputs": [
    {
     "name": "stderr",
     "output_type": "stream",
     "text": [
      "[Stage 24:>                                                         (0 + 3) / 3]\r"
     ]
    },
    {
     "name": "stdout",
     "output_type": "stream",
     "text": [
      "+------------------+----------------+\n",
      "|invoice_month_year|num_transactions|\n",
      "+------------------+----------------+\n",
      "|        2011-12-09|              49|\n",
      "|        2011-12-08|             145|\n",
      "|        2011-12-07|             138|\n",
      "|        2011-12-06|             149|\n",
      "|        2011-12-05|             151|\n",
      "+------------------+----------------+\n",
      "only showing top 5 rows\n",
      "\n"
     ]
    },
    {
     "name": "stderr",
     "output_type": "stream",
     "text": [
      "                                                                                \r"
     ]
    }
   ],
   "source": [
    "# 8. Quantas transações ocorreram por mês?\n",
    "df_8 = df.withColumn(\"InvoiceDate\", to_timestamp(col(\"InvoiceDate\"), \"M/d/yyyy H:mm\"))\n",
    "df_8 = df_8.withColumn(\"invoice_month_year\", to_date(\"InvoiceDate\", \"MM/yyyy\"))\n",
    "df_8.groupBy(\"invoice_month_year\") \\\n",
    "    .agg(count_distinct(\"InvoiceNo\").alias(\"num_transactions\")) \\\n",
    "    .orderBy(desc(\"invoice_month_year\")) \\\n",
    "    .show(5)"
   ]
  },
  {
   "cell_type": "code",
   "execution_count": 27,
   "metadata": {},
   "outputs": [
    {
     "name": "stderr",
     "output_type": "stream",
     "text": [
      "[Stage 43:===================>                                      (1 + 2) / 3]\r"
     ]
    },
    {
     "name": "stdout",
     "output_type": "stream",
     "text": [
      "+-------------------+-----+\n",
      "|        InvoiceDate|  qtd|\n",
      "+-------------------+-----+\n",
      "|2011-11-01 00:00:00|84711|\n",
      "|2011-10-01 00:00:00|60742|\n",
      "|2011-09-01 00:00:00|50226|\n",
      "|2010-12-01 00:00:00|42481|\n",
      "|2011-07-01 00:00:00|39518|\n",
      "|2011-05-01 00:00:00|37030|\n",
      "|2011-06-01 00:00:00|36874|\n",
      "|2011-03-01 00:00:00|36748|\n",
      "|2011-08-01 00:00:00|35284|\n",
      "|2011-01-01 00:00:00|35147|\n",
      "|2011-04-01 00:00:00|29916|\n",
      "|2011-02-01 00:00:00|27707|\n",
      "|2011-12-01 00:00:00|25525|\n",
      "+-------------------+-----+\n",
      "\n"
     ]
    },
    {
     "name": "stderr",
     "output_type": "stream",
     "text": [
      "                                                                                \r"
     ]
    }
   ],
   "source": [
    "treated_date: DataFrame = df.withColumn(\"InvoiceDate\", date_trunc(\"month\",to_date(\"InvoiceDate\", \"M/d/yyyy H:mm\")))\n",
    "treated_date.createOrReplaceTempView(\"online_retail\")\n",
    "sql_8 = \"\"\"\n",
    "    SELECT InvoiceDate, COUNT(*) AS qtd\n",
    "    FROM online_retail\n",
    "    GROUP BY 1\n",
    "    ORDER BY 2 DESC\n",
    "\"\"\"\n",
    "spark.sql(sql_8).show()"
   ]
  },
  {
   "cell_type": "code",
   "execution_count": null,
   "metadata": {},
   "outputs": [
    {
     "name": "stderr",
     "output_type": "stream",
     "text": [
      "[Stage 46:===================>                                      (1 + 2) / 3]\r"
     ]
    },
    {
     "name": "stdout",
     "output_type": "stream",
     "text": [
      "+-------------------+---------------+\n",
      "|        InvoiceDate|invoice_by_date|\n",
      "+-------------------+---------------+\n",
      "|2011-11-01 00:00:00|     1461756.25|\n",
      "|2011-10-01 00:00:00|     1070704.67|\n",
      "|2011-09-01 00:00:00|     1019687.62|\n",
      "|2010-12-01 00:00:00|      748957.02|\n",
      "|2011-05-01 00:00:00|      723333.51|\n",
      "|2011-06-01 00:00:00|      691123.12|\n",
      "|2011-03-01 00:00:00|      683267.08|\n",
      "|2011-08-01 00:00:00|      682680.51|\n",
      "|2011-07-01 00:00:00|      681300.11|\n",
      "|2011-01-01 00:00:00|      560000.26|\n",
      "|2011-02-01 00:00:00|      498062.65|\n",
      "|2011-04-01 00:00:00|      493207.12|\n",
      "|2011-12-01 00:00:00|      433668.01|\n",
      "+-------------------+---------------+\n",
      "\n"
     ]
    },
    {
     "name": "stderr",
     "output_type": "stream",
     "text": [
      "                                                                                \r"
     ]
    }
   ],
   "source": [
    "# Intermediarias\n",
    "# 9. Qual foi o mês com o maior faturamento?\n",
    "treated_date.groupBy(\"InvoiceDate\") \\\n",
    "    .agg(round(sum(expr(\"UnitPrice * Quantity\")), 2).alias(\"invoice\")) \\\n",
    "    .orderBy(desc(\"invoice\")).show()"
   ]
  },
  {
   "cell_type": "code",
   "execution_count": 36,
   "metadata": {},
   "outputs": [
    {
     "name": "stdout",
     "output_type": "stream",
     "text": [
      "+-------------------+----------+\n",
      "|        InvoiceDate|   invoice|\n",
      "+-------------------+----------+\n",
      "|2011-11-01 00:00:00|1461756.25|\n",
      "|2011-10-01 00:00:00|1070704.67|\n",
      "|2011-09-01 00:00:00|1019687.62|\n",
      "+-------------------+----------+\n",
      "only showing top 3 rows\n",
      "\n"
     ]
    },
    {
     "name": "stderr",
     "output_type": "stream",
     "text": [
      "                                                                                \r"
     ]
    }
   ],
   "source": [
    "sql_9 = \"\"\"\n",
    "    SELECT InvoiceDate, ROUND(SUM(UnitPrice * Quantity), 2) AS invoice\n",
    "    FROM online_retail\n",
    "    GROUP BY 1\n",
    "    ORDER BY 2 DESC\n",
    "\"\"\"\n",
    "spark.sql(sql_9).show(3)"
   ]
  },
  {
   "cell_type": "code",
   "execution_count": 39,
   "metadata": {},
   "outputs": [
    {
     "name": "stdout",
     "output_type": "stream",
     "text": [
      "+----------------------------------+-------------+\n",
      "|Description                       |total_revenue|\n",
      "+----------------------------------+-------------+\n",
      "|DOTCOM POSTAGE                    |206245.48    |\n",
      "|REGENCY CAKESTAND 3 TIER          |164762.19    |\n",
      "|WHITE HANGING HEART T-LIGHT HOLDER|99668.47     |\n",
      "|PARTY BUNTING                     |98302.98     |\n",
      "|JUMBO BAG RED RETROSPOT           |92356.03     |\n",
      "|RABBIT NIGHT LIGHT                |66756.59     |\n",
      "|POSTAGE                           |66230.64     |\n",
      "|PAPER CHAIN KIT 50'S CHRISTMAS    |63791.94     |\n",
      "|ASSORTED COLOUR BIRD ORNAMENT     |58959.73     |\n",
      "|CHILLI LIGHTS                     |53768.06     |\n",
      "+----------------------------------+-------------+\n",
      "only showing top 10 rows\n",
      "\n"
     ]
    }
   ],
   "source": [
    "# 10. Quais produtos geraram mais receita (top 10)?\n",
    "df.groupBy(\"Description\") \\\n",
    "    .agg(round(sum(expr(\"UnitPrice * Quantity\")), 2).alias(\"total_revenue\")) \\\n",
    "    .orderBy(desc(\"total_revenue\")).show(10, truncate=False)\n"
   ]
  },
  {
   "cell_type": "code",
   "execution_count": 37,
   "metadata": {},
   "outputs": [
    {
     "name": "stderr",
     "output_type": "stream",
     "text": [
      "                                                                                \r"
     ]
    },
    {
     "name": "stdout",
     "output_type": "stream",
     "text": [
      "+--------------------+-------------+\n",
      "|         Description|total_revenue|\n",
      "+--------------------+-------------+\n",
      "|      DOTCOM POSTAGE|    206245.48|\n",
      "|REGENCY CAKESTAND...|    164762.19|\n",
      "|WHITE HANGING HEA...|     99668.47|\n",
      "|       PARTY BUNTING|     98302.98|\n",
      "|JUMBO BAG RED RET...|     92356.03|\n",
      "|  RABBIT NIGHT LIGHT|     66756.59|\n",
      "|             POSTAGE|     66230.64|\n",
      "|PAPER CHAIN KIT 5...|     63791.94|\n",
      "|ASSORTED COLOUR B...|     58959.73|\n",
      "|       CHILLI LIGHTS|     53768.06|\n",
      "+--------------------+-------------+\n",
      "only showing top 10 rows\n",
      "\n"
     ]
    }
   ],
   "source": [
    "sql_10 = \"\"\"\n",
    "    SELECT Description, ROUND(SUM(UnitPrice * Quantity), 2) AS total_revenue\n",
    "    FROM online_retail\n",
    "    GROUP BY 1\n",
    "    ORDER BY 2 DESC\n",
    "\"\"\"\n",
    "spark.sql(sql_10).show(10)"
   ]
  },
  {
   "cell_type": "code",
   "execution_count": 55,
   "metadata": {},
   "outputs": [
    {
     "name": "stdout",
     "output_type": "stream",
     "text": [
      "+---------+---------+-----------+--------+-----------+---------+----------+-------+\n",
      "|InvoiceNo|StockCode|Description|Quantity|InvoiceDate|UnitPrice|CustomerID|Country|\n",
      "+---------+---------+-----------+--------+-----------+---------+----------+-------+\n",
      "|        0|        0|       1454|       0|          0|        0|    135080|      0|\n",
      "+---------+---------+-----------+--------+-----------+---------+----------+-------+\n",
      "\n"
     ]
    }
   ],
   "source": [
    "# 11. Existem valores ausentes no dataset? Quais colunas estão mais afetadas?\n",
    "df.select([sum(col(c).isNull().cast(\"int\")).alias(c) for c in df.columns]).show()"
   ]
  },
  {
   "cell_type": "code",
   "execution_count": 46,
   "metadata": {},
   "outputs": [
    {
     "name": "stdout",
     "output_type": "stream",
     "text": [
      "+-----------+------+\n",
      "|InvoiceDate| count|\n",
      "+-----------+------+\n",
      "|          6| 82193|\n",
      "|          5|103857|\n",
      "|          4| 94565|\n",
      "|          3|101808|\n",
      "|          2| 95111|\n",
      "|          1| 64375|\n",
      "+-----------+------+\n",
      "\n"
     ]
    }
   ],
   "source": [
    "# 12. Qual é a distribuição de transações por dia da semana? \n",
    "day_of_week: DataFrame = df.withColumn(\"InvoiceDate\", dayofweek(to_date(\"InvoiceDate\", \"M/d/yyyy H:mm\")))\n",
    "day_of_week.createOrReplaceTempView(\"day_of_week\")\n",
    "day_of_week.groupBy(\"InvoiceDate\") \\\n",
    "    .count() \\\n",
    "    .orderBy(desc(\"InvoiceDate\")) \\\n",
    "    .show()"
   ]
  },
  {
   "cell_type": "code",
   "execution_count": 48,
   "metadata": {},
   "outputs": [
    {
     "name": "stdout",
     "output_type": "stream",
     "text": [
      "+-----------+------+\n",
      "|InvoiceDate|   qtd|\n",
      "+-----------+------+\n",
      "|          1| 64375|\n",
      "|          6| 82193|\n",
      "|          3|101808|\n",
      "|          5|103857|\n",
      "|          4| 94565|\n",
      "|          2| 95111|\n",
      "+-----------+------+\n",
      "\n"
     ]
    },
    {
     "name": "stderr",
     "output_type": "stream",
     "text": [
      "                                                                                \r"
     ]
    }
   ],
   "source": [
    "\n",
    "sql_12 = \"\"\"\n",
    "    SELECT InvoiceDate, COUNT(*) AS qtd\n",
    "    FROM day_of_week\n",
    "    GROUP BY 1\n",
    "\"\"\"\n",
    "spark.sql(sql_12).show()"
   ]
  },
  {
   "cell_type": "code",
   "execution_count": 59,
   "metadata": {},
   "outputs": [
    {
     "data": {
      "text/plain": [
       "10624"
      ]
     },
     "execution_count": 59,
     "metadata": {},
     "output_type": "execute_result"
    }
   ],
   "source": [
    "# 13. Quantas transações envolveram devoluções (quantidade negativa)?\n",
    "df.select(\"Quantity\") \\\n",
    "    .where(\"Quantity < 0\") \\\n",
    "    .count()"
   ]
  },
  {
   "cell_type": "code",
   "execution_count": 49,
   "metadata": {},
   "outputs": [
    {
     "name": "stdout",
     "output_type": "stream",
     "text": [
      "+--------+\n",
      "|count(1)|\n",
      "+--------+\n",
      "|   10624|\n",
      "+--------+\n",
      "\n"
     ]
    }
   ],
   "source": [
    "sql_13 = \"\"\"\n",
    "    SELECT COUNT(*)\n",
    "    FROM online_retail \n",
    "    WHERE Quantity < 0\n",
    "\"\"\"\n",
    "spark.sql(sql_13).show()"
   ]
  },
  {
   "cell_type": "code",
   "execution_count": 68,
   "metadata": {},
   "outputs": [
    {
     "name": "stdout",
     "output_type": "stream",
     "text": [
      "+----------+-----------+\n",
      "|CustomerID|total_spent|\n",
      "+----------+-----------+\n",
      "|     14646|  279489.02|\n",
      "|     18102|  256438.49|\n",
      "|     17450|  187482.17|\n",
      "|     14911|  132572.62|\n",
      "|     12415|  123725.45|\n",
      "|     14156|  113384.14|\n",
      "|     17511|   88125.38|\n",
      "|     16684|   65892.08|\n",
      "|     13694|    62653.1|\n",
      "|     15311|   59419.34|\n",
      "+----------+-----------+\n",
      "only showing top 10 rows\n",
      "\n"
     ]
    }
   ],
   "source": [
    "# 14. Qual cliente gerou mais receita para a loja?\n",
    "df.groupBy(\"CustomerID\") \\\n",
    "    .agg(round(sum(expr(\"UnitPrice * Quantity\")), 2).alias(\"total_spent\")) \\\n",
    "    .where(\"CustomerID is not null\") \\\n",
    "    .orderBy(desc(\"total_spent\")).show(10)"
   ]
  },
  {
   "cell_type": "code",
   "execution_count": 52,
   "metadata": {},
   "outputs": [
    {
     "name": "stdout",
     "output_type": "stream",
     "text": [
      "+----------+---------+\n",
      "|CustomerID|      qtd|\n",
      "+----------+---------+\n",
      "|     14646|279489.02|\n",
      "|     18102|256438.49|\n",
      "|     17450|187482.17|\n",
      "+----------+---------+\n",
      "only showing top 3 rows\n",
      "\n"
     ]
    }
   ],
   "source": [
    "sql_14 = \"\"\"\n",
    "    SELECT CustomerID, ROUND(SUM(UnitPrice * Quantity), 2) AS qtd\n",
    "    FROM online_retail\n",
    "    WHERE CustomerID IS NOT NULL\n",
    "    GROUP BY 1\n",
    "    ORDER BY 2 DESC\n",
    "\"\"\"\n",
    "spark.sql(sql_14).show(3)"
   ]
  },
  {
   "cell_type": "code",
   "execution_count": 72,
   "metadata": {},
   "outputs": [
    {
     "name": "stdout",
     "output_type": "stream",
     "text": [
      "+------------------+------------------+\n",
      "|           Country|         avg_spent|\n",
      "+------------------+------------------+\n",
      "|         Singapore|109.64580786026201|\n",
      "|         Hong Kong| 42.50520833333332|\n",
      "|          Portugal| 8.582975641869636|\n",
      "|            Cyprus| 6.302363344051448|\n",
      "|            Canada|6.0303311258278125|\n",
      "|            Norway| 6.012025782688759|\n",
      "|              EIRE|5.9110773548073245|\n",
      "|           Finland| 5.448705035971227|\n",
      "|           Lebanon| 5.387555555555553|\n",
      "|             Malta| 5.244173228346455|\n",
      "|            France| 5.028864087881303|\n",
      "|             Spain|  4.98754441373863|\n",
      "|   Channel Islands| 4.932124010554094|\n",
      "|            Greece| 4.885547945205479|\n",
      "|             Italy|4.8311207970112156|\n",
      "|European Community| 4.820491803278688|\n",
      "|           Bahrain| 4.556315789473684|\n",
      "|    United Kingdom|4.5324221741417015|\n",
      "|            Brazil| 4.456250000000001|\n",
      "|               RSA| 4.277586206896552|\n",
      "+------------------+------------------+\n",
      "only showing top 20 rows\n",
      "\n"
     ]
    }
   ],
   "source": [
    "# 15. Qual foi o preço médio de produtos comprados por país?\n",
    "df.groupBy(\"Country\") \\\n",
    "    .agg(avg(\"UnitPrice\").alias(\"avg_spent\")) \\\n",
    "    .orderBy(desc(\"avg_spent\")) \\\n",
    "    .show()"
   ]
  },
  {
   "cell_type": "code",
   "execution_count": 56,
   "metadata": {},
   "outputs": [
    {
     "name": "stdout",
     "output_type": "stream",
     "text": [
      "+------------------+------------------+\n",
      "|           Country|         avg_sepnt|\n",
      "+------------------+------------------+\n",
      "|         Singapore|109.64580786026201|\n",
      "|         Hong Kong| 42.50520833333332|\n",
      "|          Portugal| 8.582975641869636|\n",
      "|            Cyprus| 6.302363344051448|\n",
      "|            Canada|6.0303311258278125|\n",
      "|            Norway| 6.012025782688759|\n",
      "|              EIRE|5.9110773548073245|\n",
      "|           Finland| 5.448705035971227|\n",
      "|           Lebanon| 5.387555555555553|\n",
      "|             Malta| 5.244173228346455|\n",
      "|            France| 5.028864087881303|\n",
      "|             Spain|  4.98754441373863|\n",
      "|   Channel Islands| 4.932124010554094|\n",
      "|            Greece| 4.885547945205479|\n",
      "|             Italy|4.8311207970112156|\n",
      "|European Community| 4.820491803278688|\n",
      "|           Bahrain| 4.556315789473684|\n",
      "|    United Kingdom|4.5324221741417015|\n",
      "|            Brazil| 4.456250000000001|\n",
      "|               RSA| 4.277586206896552|\n",
      "+------------------+------------------+\n",
      "only showing top 20 rows\n",
      "\n"
     ]
    }
   ],
   "source": [
    "sql_15 = \"\"\"\n",
    "    SELECT Country, AVG(UnitPrice) AS avg_sepnt\n",
    "    FROM online_retail\n",
    "    GROUP BY 1\n",
    "    ORDER BY 2 DESC\n",
    "\"\"\"\n",
    "spark.sql(sql_15).show()"
   ]
  },
  {
   "cell_type": "code",
   "execution_count": null,
   "metadata": {},
   "outputs": [],
   "source": []
  }
 ],
 "metadata": {
  "kernelspec": {
   "display_name": "Python 3",
   "language": "python",
   "name": "python3"
  },
  "language_info": {
   "codemirror_mode": {
    "name": "ipython",
    "version": 3
   },
   "file_extension": ".py",
   "mimetype": "text/x-python",
   "name": "python",
   "nbconvert_exporter": "python",
   "pygments_lexer": "ipython3",
   "version": "3.10.12"
  }
 },
 "nbformat": 4,
 "nbformat_minor": 2
}
