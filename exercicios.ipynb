{
 "cells": [
  {
   "cell_type": "code",
   "execution_count": 1,
   "metadata": {},
   "outputs": [
    {
     "name": "stderr",
     "output_type": "stream",
     "text": [
      "your 131072x1 screen size is bogus. expect trouble\n",
      "24/12/06 23:16:03 WARN Utils: Your hostname, otaviordgs resolves to a loopback address: 127.0.1.1; using 172.24.57.217 instead (on interface eth0)\n",
      "24/12/06 23:16:03 WARN Utils: Set SPARK_LOCAL_IP if you need to bind to another address\n",
      "Setting default log level to \"WARN\".\n",
      "To adjust logging level use sc.setLogLevel(newLevel). For SparkR, use setLogLevel(newLevel).\n",
      "24/12/06 23:16:04 WARN NativeCodeLoader: Unable to load native-hadoop library for your platform... using builtin-java classes where applicable\n"
     ]
    }
   ],
   "source": [
    "from pyspark.sql import SparkSession\n",
    "\n",
    "spark = SparkSession.builder \\\n",
    "        .appName(\"Hello Spark\") \\\n",
    "        .master(\"local[3]\") \\\n",
    "        .getOrCreate()"
   ]
  },
  {
   "cell_type": "code",
   "execution_count": 2,
   "metadata": {},
   "outputs": [
    {
     "data": {
      "text/plain": [
       "StructType([StructField('Poster_Link', StringType(), True), StructField('Series_Title', StringType(), True), StructField('Released_Year', IntegerType(), True), StructField('Certificate', StringType(), True), StructField('Runtime', StringType(), True), StructField('Genre', StringType(), True), StructField('IMDB_Rating', FloatType(), True), StructField('Overview', StringType(), True), StructField('Meta_score', IntegerType(), True), StructField('Director', StringType(), True), StructField('Star1', StringType(), True), StructField('Star2', StringType(), True), StructField('Star3', StringType(), True), StructField('Star4', StringType(), True), StructField('No_of_Votes', IntegerType(), True), StructField('Gross', StringType(), True)])"
      ]
     },
     "execution_count": 2,
     "metadata": {},
     "output_type": "execute_result"
    }
   ],
   "source": [
    "from pyspark.sql.types import _parse_datatype_string\n",
    "\n",
    "schema = \"\"\"\n",
    "    Poster_Link STRING,\n",
    "    Series_Title STRING,\n",
    "    Released_Year INT,\n",
    "    Certificate STRING,\n",
    "    Runtime STRING,\n",
    "    Genre STRING,\n",
    "    IMDB_Rating FLOAT,\n",
    "    Overview STRING,\n",
    "    Meta_score INT,\n",
    "    Director STRING,\n",
    "    Star1 STRING,\n",
    "    Star2 STRING,\n",
    "    Star3 STRING,\n",
    "    Star4 STRING,\n",
    "    No_of_Votes INT,\n",
    "    Gross STRING\n",
    "\"\"\"\n",
    "schema = _parse_datatype_string(schema)\n",
    "schema"
   ]
  },
  {
   "cell_type": "code",
   "execution_count": 3,
   "metadata": {},
   "outputs": [
    {
     "name": "stdout",
     "output_type": "stream",
     "text": [
      "+--------------------+--------------------+-------------+-----------+-------+--------------------+-----------+--------------------+----------+--------------------+------------------+--------------------+------------------+--------------------+-----------+-----------+\n",
      "|         Poster_Link|        Series_Title|Released_Year|Certificate|Runtime|               Genre|IMDB_Rating|            Overview|Meta_score|            Director|             Star1|               Star2|             Star3|               Star4|No_of_Votes|      Gross|\n",
      "+--------------------+--------------------+-------------+-----------+-------+--------------------+-----------+--------------------+----------+--------------------+------------------+--------------------+------------------+--------------------+-----------+-----------+\n",
      "|https://m.media-a...|The Shawshank Red...|         1994|          A|142 min|               Drama|        9.3|Two imprisoned me...|        80|      Frank Darabont|       Tim Robbins|      Morgan Freeman|        Bob Gunton|      William Sadler|    2343110| 28,341,469|\n",
      "|https://m.media-a...|       The Godfather|         1972|          A|175 min|        Crime, Drama|        9.2|An organized crim...|       100|Francis Ford Coppola|     Marlon Brando|           Al Pacino|        James Caan|        Diane Keaton|    1620367|134,966,411|\n",
      "|https://m.media-a...|     The Dark Knight|         2008|         UA|152 min|Action, Crime, Drama|        9.0|When the menace k...|        84|   Christopher Nolan|    Christian Bale|        Heath Ledger|     Aaron Eckhart|       Michael Caine|    2303232|534,858,444|\n",
      "|https://m.media-a...|The Godfather: Pa...|         1974|          A|202 min|        Crime, Drama|        9.0|The early life an...|        90|Francis Ford Coppola|         Al Pacino|      Robert De Niro|     Robert Duvall|        Diane Keaton|    1129952| 57,300,000|\n",
      "|https://m.media-a...|        12 Angry Men|         1957|          U| 96 min|        Crime, Drama|        9.0|A jury holdout at...|        96|        Sidney Lumet|       Henry Fonda|         Lee J. Cobb|     Martin Balsam|        John Fiedler|     689845|  4,360,000|\n",
      "|https://m.media-a...|The Lord of the R...|         2003|          U|201 min|Action, Adventure...|        8.9|Gandalf and Arago...|        94|       Peter Jackson|       Elijah Wood|     Viggo Mortensen|      Ian McKellen|       Orlando Bloom|    1642758|377,845,905|\n",
      "|https://m.media-a...|        Pulp Fiction|         1994|          A|154 min|        Crime, Drama|        8.9|The lives of two ...|        94|   Quentin Tarantino|     John Travolta|         Uma Thurman| Samuel L. Jackson|        Bruce Willis|    1826188|107,928,762|\n",
      "|https://m.media-a...|    Schindler's List|         1993|          A|195 min|Biography, Drama,...|        8.9|In German-occupie...|        94|    Steven Spielberg|       Liam Neeson|       Ralph Fiennes|      Ben Kingsley|    Caroline Goodall|    1213505| 96,898,818|\n",
      "|https://m.media-a...|           Inception|         2010|         UA|148 min|Action, Adventure...|        8.8|A thief who steal...|        74|   Christopher Nolan| Leonardo DiCaprio|Joseph Gordon-Levitt|       Elliot Page|        Ken Watanabe|    2067042|292,576,195|\n",
      "|https://m.media-a...|          Fight Club|         1999|          A|139 min|               Drama|        8.8|An insomniac offi...|        66|       David Fincher|         Brad Pitt|       Edward Norton|         Meat Loaf|        Zach Grenier|    1854740| 37,030,102|\n",
      "|https://m.media-a...|The Lord of the R...|         2001|          U|178 min|Action, Adventure...|        8.8|A meek Hobbit fro...|        92|       Peter Jackson|       Elijah Wood|        Ian McKellen|     Orlando Bloom|           Sean Bean|    1661481|315,544,750|\n",
      "|https://m.media-a...|        Forrest Gump|         1994|         UA|142 min|      Drama, Romance|        8.8|The presidencies ...|        82|     Robert Zemeckis|         Tom Hanks|        Robin Wright|       Gary Sinise|         Sally Field|    1809221|330,252,182|\n",
      "|https://m.media-a...|Il buono, il brut...|         1966|          A|161 min|             Western|        8.8|A bounty hunting ...|        90|        Sergio Leone|    Clint Eastwood|         Eli Wallach|     Lee Van Cleef|        Aldo Giuffrè|     688390|  6,100,000|\n",
      "|https://m.media-a...|The Lord of the R...|         2002|         UA|179 min|Action, Adventure...|        8.7|While Frodo and S...|        87|       Peter Jackson|       Elijah Wood|        Ian McKellen|   Viggo Mortensen|       Orlando Bloom|    1485555|342,551,365|\n",
      "|https://m.media-a...|          The Matrix|         1999|          A|136 min|      Action, Sci-Fi|        8.7|When a beautiful ...|        73|      Lana Wachowski|   Lilly Wachowski|        Keanu Reeves|Laurence Fishburne|    Carrie-Anne Moss|    1676426|171,479,930|\n",
      "|https://m.media-a...|          Goodfellas|         1990|          A|146 min|Biography, Crime,...|        8.7|The story of Henr...|        90|     Martin Scorsese|    Robert De Niro|          Ray Liotta|         Joe Pesci|     Lorraine Bracco|    1020727| 46,836,394|\n",
      "|https://m.media-a...|Star Wars: Episod...|         1980|         UA|124 min|Action, Adventure...|        8.7|After the Rebels ...|        82|      Irvin Kershner|       Mark Hamill|       Harrison Ford|     Carrie Fisher|  Billy Dee Williams|    1159315|290,475,067|\n",
      "|https://m.media-a...|One Flew Over the...|         1975|          A|133 min|               Drama|        8.7|A criminal pleads...|        83|        Milos Forman|    Jack Nicholson|     Louise Fletcher|  Michael Berryman|        Peter Brocco|     918088|112,000,000|\n",
      "|https://m.media-a...|            Hamilton|         2020|      PG-13|160 min|Biography, Drama,...|        8.6|The real life of ...|        90|         Thomas Kail|Lin-Manuel Miranda|        Phillipa Soo|   Leslie Odom Jr.|Renée Elise Golds...|      55291|       NULL|\n",
      "|https://m.media-a...|        Gisaengchung|         2019|          A|132 min|Comedy, Drama, Th...|        8.6|Greed and class d...|        96|        Bong Joon Ho|      Kang-ho Song|        Lee Sun-kyun|     Cho Yeo-jeong|        Choi Woo-sik|     552778| 53,367,844|\n",
      "+--------------------+--------------------+-------------+-----------+-------+--------------------+-----------+--------------------+----------+--------------------+------------------+--------------------+------------------+--------------------+-----------+-----------+\n",
      "only showing top 20 rows\n",
      "\n"
     ]
    }
   ],
   "source": [
    "df = spark.read \\\n",
    "    .format(\"cvs\") \\\n",
    "    .option('header', 'true') \\\n",
    "    .schema(schema) \\\n",
    "    .csv('data/imdb_top_1000.csv')\n",
    "\n",
    "df.show()"
   ]
  },
  {
   "cell_type": "code",
   "execution_count": 4,
   "metadata": {},
   "outputs": [
    {
     "name": "stdout",
     "output_type": "stream",
     "text": [
      "root\n",
      " |-- Poster_Link: string (nullable = true)\n",
      " |-- Series_Title: string (nullable = true)\n",
      " |-- Released_Year: integer (nullable = true)\n",
      " |-- Certificate: string (nullable = true)\n",
      " |-- Runtime: string (nullable = true)\n",
      " |-- Genre: string (nullable = true)\n",
      " |-- IMDB_Rating: float (nullable = true)\n",
      " |-- Overview: string (nullable = true)\n",
      " |-- Meta_score: integer (nullable = true)\n",
      " |-- Director: string (nullable = true)\n",
      " |-- Star1: string (nullable = true)\n",
      " |-- Star2: string (nullable = true)\n",
      " |-- Star3: string (nullable = true)\n",
      " |-- Star4: string (nullable = true)\n",
      " |-- No_of_Votes: integer (nullable = true)\n",
      " |-- Gross: string (nullable = true)\n",
      "\n"
     ]
    }
   ],
   "source": [
    "df.printSchema()"
   ]
  },
  {
   "cell_type": "code",
   "execution_count": 5,
   "metadata": {},
   "outputs": [],
   "source": [
    "from pyspark.sql.functions import pandas_udf, udf\n",
    "\n",
    "@udf\n",
    "def get_runtime_minutes(runtime):\n",
    "    return runtime.split(\" \")[0]"
   ]
  },
  {
   "cell_type": "code",
   "execution_count": 6,
   "metadata": {},
   "outputs": [
    {
     "name": "stderr",
     "output_type": "stream",
     "text": [
      "                                                                                \r"
     ]
    },
    {
     "name": "stdout",
     "output_type": "stream",
     "text": [
      "+--------------------+--------------------+-------------+-----------+-------+--------------------+-----------+--------------------+----------+--------------------+------------------+--------------------+------------------+--------------------+-----------+-----------+---------------+\n",
      "|         Poster_Link|        Series_Title|Released_Year|Certificate|Runtime|               Genre|IMDB_Rating|            Overview|Meta_score|            Director|             Star1|               Star2|             Star3|               Star4|No_of_Votes|      Gross|Runtime_Minutes|\n",
      "+--------------------+--------------------+-------------+-----------+-------+--------------------+-----------+--------------------+----------+--------------------+------------------+--------------------+------------------+--------------------+-----------+-----------+---------------+\n",
      "|https://m.media-a...|The Shawshank Red...|         1994|          A|142 min|               Drama|        9.3|Two imprisoned me...|        80|      Frank Darabont|       Tim Robbins|      Morgan Freeman|        Bob Gunton|      William Sadler|    2343110| 28,341,469|            142|\n",
      "|https://m.media-a...|       The Godfather|         1972|          A|175 min|        Crime, Drama|        9.2|An organized crim...|       100|Francis Ford Coppola|     Marlon Brando|           Al Pacino|        James Caan|        Diane Keaton|    1620367|134,966,411|            175|\n",
      "|https://m.media-a...|     The Dark Knight|         2008|         UA|152 min|Action, Crime, Drama|        9.0|When the menace k...|        84|   Christopher Nolan|    Christian Bale|        Heath Ledger|     Aaron Eckhart|       Michael Caine|    2303232|534,858,444|            152|\n",
      "|https://m.media-a...|The Godfather: Pa...|         1974|          A|202 min|        Crime, Drama|        9.0|The early life an...|        90|Francis Ford Coppola|         Al Pacino|      Robert De Niro|     Robert Duvall|        Diane Keaton|    1129952| 57,300,000|            202|\n",
      "|https://m.media-a...|        12 Angry Men|         1957|          U| 96 min|        Crime, Drama|        9.0|A jury holdout at...|        96|        Sidney Lumet|       Henry Fonda|         Lee J. Cobb|     Martin Balsam|        John Fiedler|     689845|  4,360,000|             96|\n",
      "|https://m.media-a...|The Lord of the R...|         2003|          U|201 min|Action, Adventure...|        8.9|Gandalf and Arago...|        94|       Peter Jackson|       Elijah Wood|     Viggo Mortensen|      Ian McKellen|       Orlando Bloom|    1642758|377,845,905|            201|\n",
      "|https://m.media-a...|        Pulp Fiction|         1994|          A|154 min|        Crime, Drama|        8.9|The lives of two ...|        94|   Quentin Tarantino|     John Travolta|         Uma Thurman| Samuel L. Jackson|        Bruce Willis|    1826188|107,928,762|            154|\n",
      "|https://m.media-a...|    Schindler's List|         1993|          A|195 min|Biography, Drama,...|        8.9|In German-occupie...|        94|    Steven Spielberg|       Liam Neeson|       Ralph Fiennes|      Ben Kingsley|    Caroline Goodall|    1213505| 96,898,818|            195|\n",
      "|https://m.media-a...|           Inception|         2010|         UA|148 min|Action, Adventure...|        8.8|A thief who steal...|        74|   Christopher Nolan| Leonardo DiCaprio|Joseph Gordon-Levitt|       Elliot Page|        Ken Watanabe|    2067042|292,576,195|            148|\n",
      "|https://m.media-a...|          Fight Club|         1999|          A|139 min|               Drama|        8.8|An insomniac offi...|        66|       David Fincher|         Brad Pitt|       Edward Norton|         Meat Loaf|        Zach Grenier|    1854740| 37,030,102|            139|\n",
      "|https://m.media-a...|The Lord of the R...|         2001|          U|178 min|Action, Adventure...|        8.8|A meek Hobbit fro...|        92|       Peter Jackson|       Elijah Wood|        Ian McKellen|     Orlando Bloom|           Sean Bean|    1661481|315,544,750|            178|\n",
      "|https://m.media-a...|        Forrest Gump|         1994|         UA|142 min|      Drama, Romance|        8.8|The presidencies ...|        82|     Robert Zemeckis|         Tom Hanks|        Robin Wright|       Gary Sinise|         Sally Field|    1809221|330,252,182|            142|\n",
      "|https://m.media-a...|Il buono, il brut...|         1966|          A|161 min|             Western|        8.8|A bounty hunting ...|        90|        Sergio Leone|    Clint Eastwood|         Eli Wallach|     Lee Van Cleef|        Aldo Giuffrè|     688390|  6,100,000|            161|\n",
      "|https://m.media-a...|The Lord of the R...|         2002|         UA|179 min|Action, Adventure...|        8.7|While Frodo and S...|        87|       Peter Jackson|       Elijah Wood|        Ian McKellen|   Viggo Mortensen|       Orlando Bloom|    1485555|342,551,365|            179|\n",
      "|https://m.media-a...|          The Matrix|         1999|          A|136 min|      Action, Sci-Fi|        8.7|When a beautiful ...|        73|      Lana Wachowski|   Lilly Wachowski|        Keanu Reeves|Laurence Fishburne|    Carrie-Anne Moss|    1676426|171,479,930|            136|\n",
      "|https://m.media-a...|          Goodfellas|         1990|          A|146 min|Biography, Crime,...|        8.7|The story of Henr...|        90|     Martin Scorsese|    Robert De Niro|          Ray Liotta|         Joe Pesci|     Lorraine Bracco|    1020727| 46,836,394|            146|\n",
      "|https://m.media-a...|Star Wars: Episod...|         1980|         UA|124 min|Action, Adventure...|        8.7|After the Rebels ...|        82|      Irvin Kershner|       Mark Hamill|       Harrison Ford|     Carrie Fisher|  Billy Dee Williams|    1159315|290,475,067|            124|\n",
      "|https://m.media-a...|One Flew Over the...|         1975|          A|133 min|               Drama|        8.7|A criminal pleads...|        83|        Milos Forman|    Jack Nicholson|     Louise Fletcher|  Michael Berryman|        Peter Brocco|     918088|112,000,000|            133|\n",
      "|https://m.media-a...|            Hamilton|         2020|      PG-13|160 min|Biography, Drama,...|        8.6|The real life of ...|        90|         Thomas Kail|Lin-Manuel Miranda|        Phillipa Soo|   Leslie Odom Jr.|Renée Elise Golds...|      55291|       NULL|            160|\n",
      "|https://m.media-a...|        Gisaengchung|         2019|          A|132 min|Comedy, Drama, Th...|        8.6|Greed and class d...|        96|        Bong Joon Ho|      Kang-ho Song|        Lee Sun-kyun|     Cho Yeo-jeong|        Choi Woo-sik|     552778| 53,367,844|            132|\n",
      "+--------------------+--------------------+-------------+-----------+-------+--------------------+-----------+--------------------+----------+--------------------+------------------+--------------------+------------------+--------------------+-----------+-----------+---------------+\n",
      "only showing top 20 rows\n",
      "\n"
     ]
    }
   ],
   "source": [
    "# pegar o ano em que os filmes foram lançados\n",
    "from pyspark.sql.functions import expr\n",
    "\n",
    "df1 = df.withColumn(\"Runtime_Minutes\", get_runtime_minutes(\"Runtime\"))\n",
    "df1.show()"
   ]
  },
  {
   "cell_type": "code",
   "execution_count": 7,
   "metadata": {},
   "outputs": [
    {
     "name": "stdout",
     "output_type": "stream",
     "text": [
      "+--------------------+--------------------+-------------+-----------+--------------------+-----------+--------------------+----------+--------------------+------------------+--------------------+------------------+--------------------+-----------+-----------+---------------+\n",
      "|         Poster_Link|        Series_Title|Released_Year|Certificate|               Genre|IMDB_Rating|            Overview|Meta_score|            Director|             Star1|               Star2|             Star3|               Star4|No_of_Votes|      Gross|Runtime_Minutes|\n",
      "+--------------------+--------------------+-------------+-----------+--------------------+-----------+--------------------+----------+--------------------+------------------+--------------------+------------------+--------------------+-----------+-----------+---------------+\n",
      "|https://m.media-a...|The Shawshank Red...|         1994|          A|               Drama|        9.3|Two imprisoned me...|        80|      Frank Darabont|       Tim Robbins|      Morgan Freeman|        Bob Gunton|      William Sadler|    2343110| 28,341,469|            142|\n",
      "|https://m.media-a...|       The Godfather|         1972|          A|        Crime, Drama|        9.2|An organized crim...|       100|Francis Ford Coppola|     Marlon Brando|           Al Pacino|        James Caan|        Diane Keaton|    1620367|134,966,411|            175|\n",
      "|https://m.media-a...|     The Dark Knight|         2008|         UA|Action, Crime, Drama|        9.0|When the menace k...|        84|   Christopher Nolan|    Christian Bale|        Heath Ledger|     Aaron Eckhart|       Michael Caine|    2303232|534,858,444|            152|\n",
      "|https://m.media-a...|The Godfather: Pa...|         1974|          A|        Crime, Drama|        9.0|The early life an...|        90|Francis Ford Coppola|         Al Pacino|      Robert De Niro|     Robert Duvall|        Diane Keaton|    1129952| 57,300,000|            202|\n",
      "|https://m.media-a...|        12 Angry Men|         1957|          U|        Crime, Drama|        9.0|A jury holdout at...|        96|        Sidney Lumet|       Henry Fonda|         Lee J. Cobb|     Martin Balsam|        John Fiedler|     689845|  4,360,000|             96|\n",
      "|https://m.media-a...|The Lord of the R...|         2003|          U|Action, Adventure...|        8.9|Gandalf and Arago...|        94|       Peter Jackson|       Elijah Wood|     Viggo Mortensen|      Ian McKellen|       Orlando Bloom|    1642758|377,845,905|            201|\n",
      "|https://m.media-a...|        Pulp Fiction|         1994|          A|        Crime, Drama|        8.9|The lives of two ...|        94|   Quentin Tarantino|     John Travolta|         Uma Thurman| Samuel L. Jackson|        Bruce Willis|    1826188|107,928,762|            154|\n",
      "|https://m.media-a...|    Schindler's List|         1993|          A|Biography, Drama,...|        8.9|In German-occupie...|        94|    Steven Spielberg|       Liam Neeson|       Ralph Fiennes|      Ben Kingsley|    Caroline Goodall|    1213505| 96,898,818|            195|\n",
      "|https://m.media-a...|           Inception|         2010|         UA|Action, Adventure...|        8.8|A thief who steal...|        74|   Christopher Nolan| Leonardo DiCaprio|Joseph Gordon-Levitt|       Elliot Page|        Ken Watanabe|    2067042|292,576,195|            148|\n",
      "|https://m.media-a...|          Fight Club|         1999|          A|               Drama|        8.8|An insomniac offi...|        66|       David Fincher|         Brad Pitt|       Edward Norton|         Meat Loaf|        Zach Grenier|    1854740| 37,030,102|            139|\n",
      "|https://m.media-a...|The Lord of the R...|         2001|          U|Action, Adventure...|        8.8|A meek Hobbit fro...|        92|       Peter Jackson|       Elijah Wood|        Ian McKellen|     Orlando Bloom|           Sean Bean|    1661481|315,544,750|            178|\n",
      "|https://m.media-a...|        Forrest Gump|         1994|         UA|      Drama, Romance|        8.8|The presidencies ...|        82|     Robert Zemeckis|         Tom Hanks|        Robin Wright|       Gary Sinise|         Sally Field|    1809221|330,252,182|            142|\n",
      "|https://m.media-a...|Il buono, il brut...|         1966|          A|             Western|        8.8|A bounty hunting ...|        90|        Sergio Leone|    Clint Eastwood|         Eli Wallach|     Lee Van Cleef|        Aldo Giuffrè|     688390|  6,100,000|            161|\n",
      "|https://m.media-a...|The Lord of the R...|         2002|         UA|Action, Adventure...|        8.7|While Frodo and S...|        87|       Peter Jackson|       Elijah Wood|        Ian McKellen|   Viggo Mortensen|       Orlando Bloom|    1485555|342,551,365|            179|\n",
      "|https://m.media-a...|          The Matrix|         1999|          A|      Action, Sci-Fi|        8.7|When a beautiful ...|        73|      Lana Wachowski|   Lilly Wachowski|        Keanu Reeves|Laurence Fishburne|    Carrie-Anne Moss|    1676426|171,479,930|            136|\n",
      "|https://m.media-a...|          Goodfellas|         1990|          A|Biography, Crime,...|        8.7|The story of Henr...|        90|     Martin Scorsese|    Robert De Niro|          Ray Liotta|         Joe Pesci|     Lorraine Bracco|    1020727| 46,836,394|            146|\n",
      "|https://m.media-a...|Star Wars: Episod...|         1980|         UA|Action, Adventure...|        8.7|After the Rebels ...|        82|      Irvin Kershner|       Mark Hamill|       Harrison Ford|     Carrie Fisher|  Billy Dee Williams|    1159315|290,475,067|            124|\n",
      "|https://m.media-a...|One Flew Over the...|         1975|          A|               Drama|        8.7|A criminal pleads...|        83|        Milos Forman|    Jack Nicholson|     Louise Fletcher|  Michael Berryman|        Peter Brocco|     918088|112,000,000|            133|\n",
      "|https://m.media-a...|            Hamilton|         2020|      PG-13|Biography, Drama,...|        8.6|The real life of ...|        90|         Thomas Kail|Lin-Manuel Miranda|        Phillipa Soo|   Leslie Odom Jr.|Renée Elise Golds...|      55291|       NULL|            160|\n",
      "|https://m.media-a...|        Gisaengchung|         2019|          A|Comedy, Drama, Th...|        8.6|Greed and class d...|        96|        Bong Joon Ho|      Kang-ho Song|        Lee Sun-kyun|     Cho Yeo-jeong|        Choi Woo-sik|     552778| 53,367,844|            132|\n",
      "+--------------------+--------------------+-------------+-----------+--------------------+-----------+--------------------+----------+--------------------+------------------+--------------------+------------------+--------------------+-----------+-----------+---------------+\n",
      "only showing top 20 rows\n",
      "\n"
     ]
    }
   ],
   "source": [
    "df1 = df1.drop(\"Runtime\")\n",
    "df1.show()"
   ]
  },
  {
   "cell_type": "code",
   "execution_count": 8,
   "metadata": {},
   "outputs": [
    {
     "name": "stdout",
     "output_type": "stream",
     "text": [
      "root\n",
      " |-- Poster_Link: string (nullable = true)\n",
      " |-- Series_Title: string (nullable = true)\n",
      " |-- Released_Year: integer (nullable = true)\n",
      " |-- Certificate: string (nullable = true)\n",
      " |-- Genre: string (nullable = true)\n",
      " |-- IMDB_Rating: float (nullable = true)\n",
      " |-- Overview: string (nullable = true)\n",
      " |-- Meta_score: integer (nullable = true)\n",
      " |-- Director: string (nullable = true)\n",
      " |-- Star1: string (nullable = true)\n",
      " |-- Star2: string (nullable = true)\n",
      " |-- Star3: string (nullable = true)\n",
      " |-- Star4: string (nullable = true)\n",
      " |-- No_of_Votes: integer (nullable = true)\n",
      " |-- Gross: string (nullable = true)\n",
      " |-- Runtime_Minutes: integer (nullable = true)\n",
      "\n"
     ]
    }
   ],
   "source": [
    "df1 = df1.withColumn(\"Runtime_Minutes\", expr(\"Cast(Runtime_Minutes as INT)\"))\n",
    "df1.printSchema()"
   ]
  },
  {
   "cell_type": "code",
   "execution_count": 9,
   "metadata": {},
   "outputs": [
    {
     "name": "stdout",
     "output_type": "stream",
     "text": [
      "+--------------------+---------------+-------------+\n",
      "|        Series_Title|Runtime_Minutes|Runtime_hours|\n",
      "+--------------------+---------------+-------------+\n",
      "|The Shawshank Red...|            142|         >= 2|\n",
      "|       The Godfather|            175|         >= 2|\n",
      "|     The Dark Knight|            152|         >= 2|\n",
      "|The Godfather: Pa...|            202|         >= 2|\n",
      "|        12 Angry Men|             96|>= 1,5 && < 2|\n",
      "|The Lord of the R...|            201|         >= 2|\n",
      "|        Pulp Fiction|            154|         >= 2|\n",
      "|    Schindler's List|            195|         >= 2|\n",
      "|           Inception|            148|         >= 2|\n",
      "|          Fight Club|            139|         >= 2|\n",
      "|The Lord of the R...|            178|         >= 2|\n",
      "|        Forrest Gump|            142|         >= 2|\n",
      "|Il buono, il brut...|            161|         >= 2|\n",
      "|The Lord of the R...|            179|         >= 2|\n",
      "|          The Matrix|            136|         >= 2|\n",
      "|          Goodfellas|            146|         >= 2|\n",
      "|Star Wars: Episod...|            124|         >= 2|\n",
      "|One Flew Over the...|            133|         >= 2|\n",
      "|            Hamilton|            160|         >= 2|\n",
      "|        Gisaengchung|            132|         >= 2|\n",
      "+--------------------+---------------+-------------+\n",
      "only showing top 20 rows\n",
      "\n"
     ]
    }
   ],
   "source": [
    "df2 = df1.select(\"Series_Title\", \"Runtime_Minutes\", expr(\"\"\"\n",
    "    CASE\n",
    "        WHEN Runtime_Minutes < 60 THEN '< 1'\n",
    "        WHEN Runtime_Minutes >= 60 AND Runtime_Minutes < 90 THEN '>= 1 && < 1,5'\n",
    "        WHEN Runtime_Minutes >= 90 AND Runtime_Minutes < 120 THEN '>= 1,5 && < 2'\n",
    "        ELSE '>= 2'\n",
    "    END AS Runtime_hours\n",
    "\"\"\"))\n",
    "df2.show()"
   ]
  },
  {
   "cell_type": "code",
   "execution_count": 10,
   "metadata": {},
   "outputs": [
    {
     "name": "stdout",
     "output_type": "stream",
     "text": [
      "+-----------------+-----------------+------------+-----------+\n",
      "|most_recent_movie|less_recent_movie|highest_note|lowest_note|\n",
      "+-----------------+-----------------+------------+-----------+\n",
      "|             2020|             1920|         9.3|        7.6|\n",
      "+-----------------+-----------------+------------+-----------+\n",
      "\n"
     ]
    }
   ],
   "source": [
    "import pyspark.sql.functions as f\n",
    "\n",
    "df3 = df1.select(\n",
    "    f.max(\"Released_Year\").alias(\"most_recent_movie\"),\n",
    "    f.min(\"Released_Year\").alias(\"less_recent_movie\"),\n",
    "    f.max(\"IMDB_Rating\").alias(\"highest_note\"),\n",
    "    f.min(\"IMDB_Rating\").alias(\"lowest_note\")\n",
    ").show()"
   ]
  },
  {
   "cell_type": "code",
   "execution_count": 24,
   "metadata": {},
   "outputs": [
    {
     "name": "stdout",
     "output_type": "stream",
     "text": [
      "+--------------------+----+-----+\n",
      "|            Director|best|worst|\n",
      "+--------------------+----+-----+\n",
      "|      Frank Darabont| 9.3|  8.6|\n",
      "|Francis Ford Coppola| 9.2|  7.6|\n",
      "|   Christopher Nolan| 9.0|  7.8|\n",
      "|        Sidney Lumet| 9.0|  7.7|\n",
      "|       Peter Jackson| 8.9|  7.8|\n",
      "|   Quentin Tarantino| 8.9|  7.6|\n",
      "|    Steven Spielberg| 8.9|  7.6|\n",
      "|       David Fincher| 8.8|  7.7|\n",
      "|     Robert Zemeckis| 8.8|  7.7|\n",
      "|        Sergio Leone| 8.8|  7.6|\n",
      "|      Irvin Kershner| 8.7|  8.7|\n",
      "|      Lana Wachowski| 8.7|  8.7|\n",
      "|     Martin Scorsese| 8.7|  7.7|\n",
      "|        Milos Forman| 8.7|  8.3|\n",
      "|      Akira Kurosawa| 8.6|  8.0|\n",
      "|        Bong Joon Ho| 8.6|  7.8|\n",
      "|  Fernando Meirelles| 8.6|  8.6|\n",
      "|         Frank Capra| 8.6|  8.0|\n",
      "|        George Lucas| 8.6|  8.6|\n",
      "|      Hayao Miyazaki| 8.6|  7.7|\n",
      "+--------------------+----+-----+\n",
      "only showing top 20 rows\n",
      "\n"
     ]
    }
   ],
   "source": [
    "df4 = df1.groupBy(\"Director\") \\\n",
    "    .agg(f.max(\"IMDB_Rating\").alias(\"best\"),f.min(\"IMDB_Rating\").alias(\"worst\")) \\\n",
    "    .orderBy(f.desc(\"best\"), f.asc(\"Director\")) \\\n",
    "    .show()"
   ]
  },
  {
   "cell_type": "code",
   "execution_count": 30,
   "metadata": {},
   "outputs": [
    {
     "name": "stdout",
     "output_type": "stream",
     "text": [
      "+--------------------+\n",
      "|        Series_Title|\n",
      "+--------------------+\n",
      "|The Shawshank Red...|\n",
      "|       The Godfather|\n",
      "|     The Dark Knight|\n",
      "|The Godfather: Pa...|\n",
      "|        12 Angry Men|\n",
      "+--------------------+\n",
      "\n"
     ]
    }
   ],
   "source": [
    "df5 = df1.select(\"Series_Title\") \\\n",
    "    .where(df1.IMDB_Rating >= 8.9) \\\n",
    "    .show()"
   ]
  }
 ],
 "metadata": {
  "kernelspec": {
   "display_name": "Python 3",
   "language": "python",
   "name": "python3"
  },
  "language_info": {
   "codemirror_mode": {
    "name": "ipython",
    "version": 3
   },
   "file_extension": ".py",
   "mimetype": "text/x-python",
   "name": "python",
   "nbconvert_exporter": "python",
   "pygments_lexer": "ipython3",
   "version": "3.10.12"
  }
 },
 "nbformat": 4,
 "nbformat_minor": 2
}
